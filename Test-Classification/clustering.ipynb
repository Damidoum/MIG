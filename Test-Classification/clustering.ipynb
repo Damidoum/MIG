{
  "cells": [
    {
      "cell_type": "code",
      "execution_count": null,
      "metadata": {
        "id": "DeieVzJzx1IV"
      },
      "outputs": [],
      "source": [
        "import numpy as np\n",
        "import matplotlib.pyplot as plt\n",
        "import pandas as pd"
      ]
    },
    {
      "cell_type": "code",
      "execution_count": null,
      "metadata": {
        "id": "i33gEouwMuCX"
      },
      "outputs": [],
      "source": [
        "df = pd.read_csv(\"time_series_covid19_deaths_US.csv\")\n",
        "df = df.drop(['UID', 'iso2', 'iso3', 'code3', 'FIPS', 'Admin2', 'Country_Region', 'Lat', 'Long_', 'Combined_Key'], axis = 1)\n",
        "df2 = df.groupby('Province_State').sum()\n",
        "pop = df2['Population']\n",
        "df2 = df2.drop('Population', axis = 1)\n",
        "df3 = df2\n",
        "for x in list(df3.columns): \n",
        "  df3[x] = df3[x] / pop \n",
        "df3 = df3.drop([x for x in df3.index if 'Princess' in x])\n",
        "\n",
        "L=np.array(df3.values.tolist())"
      ]
    },
    {
      "cell_type": "code",
      "execution_count": null,
      "metadata": {
        "colab": {
          "base_uri": "https://localhost:8080/"
        },
        "id": "aoMu2lxazG8u",
        "outputId": "88950b6f-1095-4ef9-f34e-9bf37c3cba84"
      },
      "outputs": [],
      "source": [
        "L.shape"
      ]
    },
    {
      "cell_type": "code",
      "execution_count": null,
      "metadata": {
        "colab": {
          "base_uri": "https://localhost:8080/"
        },
        "id": "a7Ks-5N8yKNn",
        "outputId": "f10983d1-561b-4ca3-d03f-d948a19f7fed"
      },
      "outputs": [],
      "source": [
        "!pip install tslearn"
      ]
    },
    {
      "cell_type": "code",
      "execution_count": null,
      "metadata": {
        "colab": {
          "base_uri": "https://localhost:8080/"
        },
        "id": "Zpq893y3xvik",
        "outputId": "6c76cc81-bb68-4328-b835-1db33758f203"
      },
      "outputs": [],
      "source": [
        "from tslearn.clustering import TimeSeriesKMeans\n",
        "\n",
        "nbclus=10\n",
        "model = TimeSeriesKMeans(n_clusters=nbclus, metric=\"dtw\", max_iter=10)\n",
        "prediction = model.fit_predict(L)\n",
        " \n",
        "print(prediction)"
      ]
    },
    {
      "cell_type": "code",
      "execution_count": null,
      "metadata": {
        "colab": {
          "base_uri": "https://localhost:8080/",
          "height": 723
        },
        "id": "MOKHts-BCWub",
        "outputId": "230a1585-3f2a-42db-ffb7-1c0c840f87c1"
      },
      "outputs": [],
      "source": [
        "fig,axes=plt.subplots(2,5, figsize=(80,50), sharex=True, sharey=True)\n",
        "\n",
        "for k in range(len(prediction)):\n",
        "  i=prediction[k]\n",
        "  axes[i//5, i%5].plot(L[k], label='%.2f'%k)\n",
        "  axes[i//5, i%5].legend(loc='right')\n",
        "\n",
        "plt.show()"
      ]
    },
    {
      "cell_type": "markdown",
      "metadata": {
        "id": "EwE49PdKMQgp"
      },
      "source": [
        "# première version\n",
        "\n",
        "### pas fiable\n"
      ]
    },
    {
      "cell_type": "code",
      "execution_count": null,
      "metadata": {
        "id": "_4VlkAZ_lnXE"
      },
      "outputs": [],
      "source": [
        "from tensorflow import keras"
      ]
    },
    {
      "cell_type": "code",
      "execution_count": null,
      "metadata": {
        "colab": {
          "base_uri": "https://localhost:8080/",
          "height": 1000
        },
        "id": "J6rmxu18jCw9",
        "outputId": "c9c8d950-8a4a-441e-b919-6ea479f2bc8d"
      },
      "outputs": [],
      "source": [
        "def make_model(input_shape):\n",
        "    input_layer = keras.layers.Input(input_shape)\n",
        "\n",
        "    conv1 = keras.layers.Conv1D(filters=64, kernel_size=3, padding=\"same\")(input_layer)\n",
        "    conv1 = keras.layers.BatchNormalization()(conv1)\n",
        "    conv1 = keras.layers.ReLU()(conv1)\n",
        "\n",
        "    conv2 = keras.layers.Conv1D(filters=64, kernel_size=3, padding=\"same\")(conv1)\n",
        "    conv2 = keras.layers.BatchNormalization()(conv2)\n",
        "    conv2 = keras.layers.ReLU()(conv2)\n",
        "\n",
        "    conv3 = keras.layers.Conv1D(filters=64, kernel_size=3, padding=\"same\")(conv2)\n",
        "    conv3 = keras.layers.BatchNormalization()(conv3)\n",
        "    conv3 = keras.layers.ReLU()(conv3)\n",
        "\n",
        "    gap = keras.layers.GlobalAveragePooling1D()(conv3)\n",
        "\n",
        "    output_layer = keras.layers.Dense(nbclus, activation=\"softmax\")(gap)\n",
        "\n",
        "    return keras.models.Model(inputs=input_layer, outputs=output_layer)\n",
        "\n",
        "\n",
        "model = make_model(input_shape=L.shape[1:])\n",
        "keras.utils.plot_model(model, show_shapes=True)"
      ]
    },
    {
      "cell_type": "code",
      "execution_count": null,
      "metadata": {
        "colab": {
          "base_uri": "https://localhost:8080/",
          "height": 1000
        },
        "id": "RI1ufHdTpC1e",
        "outputId": "e979cb37-fcd4-4021-c58c-bd5838510bd9"
      },
      "outputs": [],
      "source": [
        "epochs = 300\n",
        "batch_size = 32\n",
        "\n",
        "\n",
        "callbacks = [\n",
        "    keras.callbacks.ModelCheckpoint(\n",
        "        \"best_model.h5\", save_best_only=True, monitor=\"val_loss\"\n",
        "    ),\n",
        "    keras.callbacks.ReduceLROnPlateau(\n",
        "        monitor=\"val_loss\", factor=0.5, patience=20, min_lr=0.0001\n",
        "    ),\n",
        "    keras.callbacks.EarlyStopping(monitor=\"val_loss\", patience=50, verbose=1),\n",
        "]\n",
        "model.compile(\n",
        "    optimizer=\"adam\",\n",
        "    loss=\"sparse_categorical_crossentropy\",\n",
        "    metrics=[\"sparse_categorical_accuracy\"],\n",
        ")\n",
        "history = model.fit(\n",
        "    L,\n",
        "    prediction,\n",
        "    batch_size=batch_size,\n",
        "    epochs=epochs,\n",
        "    callbacks=callbacks,\n",
        "    validation_split=0.2,\n",
        "    verbose=1,\n",
        ")"
      ]
    },
    {
      "cell_type": "code",
      "execution_count": null,
      "metadata": {
        "colab": {
          "base_uri": "https://localhost:8080/"
        },
        "id": "TcfYC9IgqvKo",
        "outputId": "b5846597-2a8b-4179-ae50-4be01bf120bf"
      },
      "outputs": [],
      "source": [
        "model = keras.models.load_model(\"best_model.h5\")\n",
        "\n",
        "test_loss, test_acc = model.evaluate(L, prediction)\n",
        "\n",
        "print(\"Test accuracy\", test_acc)\n",
        "print(\"Test loss\", test_loss)"
      ]
    },
    {
      "cell_type": "code",
      "execution_count": null,
      "metadata": {
        "colab": {
          "base_uri": "https://localhost:8080/"
        },
        "id": "xJvZ9jAaszaV",
        "outputId": "75741749-1ac6-474b-eff2-fe011c4b5040"
      },
      "outputs": [],
      "source": [
        "pred = model.predict(L)\n",
        "res = []\n",
        "for p in pred:\n",
        "    res.append(p.argmax())\n",
        "res=np.array(res)\n",
        "print('evaluation', res)\n",
        "print('correction', prediction)\n",
        "print(np.all(res==prediction))"
      ]
    },
    {
      "cell_type": "markdown",
      "metadata": {
        "id": "W_Bt9rPKMF0p"
      },
      "source": [
        "\n",
        "# Deuxième version"
      ]
    },
    {
      "cell_type": "code",
      "execution_count": null,
      "metadata": {
        "id": "ppriP3c2F1nG"
      },
      "outputs": [],
      "source": [
        "from sklearn.svm import SVC"
      ]
    },
    {
      "cell_type": "code",
      "execution_count": null,
      "metadata": {
        "id": "mDvHhuFqF66k"
      },
      "outputs": [],
      "source": [
        "cls=SVC().fit(L,prediction)"
      ]
    },
    {
      "cell_type": "code",
      "execution_count": null,
      "metadata": {
        "colab": {
          "base_uri": "https://localhost:8080/"
        },
        "id": "VmWbxsCNGfPt",
        "outputId": "a9bc2e5f-f594-4514-a692-369bdc6f7e40"
      },
      "outputs": [],
      "source": [
        "cls.predict(L)"
      ]
    },
    {
      "cell_type": "code",
      "execution_count": null,
      "metadata": {
        "colab": {
          "base_uri": "https://localhost:8080/"
        },
        "id": "Zm55R2VmGzcY",
        "outputId": "edb1d590-ae21-4ae4-f1d0-a80f7a94d2f8"
      },
      "outputs": [],
      "source": [
        "#taux de précision\n",
        "sum(prediction==cls.predict(L))/len(prediction)"
      ]
    },
    {
      "cell_type": "markdown",
      "metadata": {
        "id": "ng3ploZ4MXOi"
      },
      "source": [
        "# Troisième version\n",
        "\n",
        "### plutôt fiable"
      ]
    },
    {
      "cell_type": "code",
      "execution_count": null,
      "metadata": {
        "id": "Brpm9cDWMZwv"
      },
      "outputs": [],
      "source": [
        "from sklearn.svm import SVC\n",
        "from sklearn.pipeline import make_pipeline\n",
        "from sklearn.preprocessing import StandardScaler"
      ]
    },
    {
      "cell_type": "code",
      "execution_count": null,
      "metadata": {
        "colab": {
          "base_uri": "https://localhost:8080/"
        },
        "id": "JP_DAI15LlVc",
        "outputId": "788c53e6-630c-403c-98f8-42bb0e60327d"
      },
      "outputs": [],
      "source": [
        "clf = make_pipeline(StandardScaler(), SVC(gamma='auto'))\n",
        "clf.fit(L,prediction)"
      ]
    },
    {
      "cell_type": "code",
      "execution_count": null,
      "metadata": {
        "colab": {
          "base_uri": "https://localhost:8080/"
        },
        "id": "e3-64QG6L4H7",
        "outputId": "ebaf43f4-29e5-440e-fd18-20825ac33a97"
      },
      "outputs": [],
      "source": [
        "clf.predict(L)"
      ]
    },
    {
      "cell_type": "code",
      "execution_count": null,
      "metadata": {
        "colab": {
          "base_uri": "https://localhost:8080/"
        },
        "id": "NBfieJ0LL9CW",
        "outputId": "9e65253e-3bae-491b-af21-929f613f7701"
      },
      "outputs": [],
      "source": [
        "#taux de précision\n",
        "sum(prediction==clf.predict(L))/len(prediction)"
      ]
    }
  ],
  "metadata": {
    "colab": {
      "provenance": []
    },
    "kernelspec": {
      "display_name": "Python 3.9.5 64-bit",
      "language": "python",
      "name": "python3"
    },
    "language_info": {
      "name": "python",
      "version": "3.9.5"
    },
    "vscode": {
      "interpreter": {
        "hash": "aee8b7b246df8f9039afb4144a1f6fd8d2ca17a180786b69acc140d282b71a49"
      }
    }
  },
  "nbformat": 4,
  "nbformat_minor": 0
}
